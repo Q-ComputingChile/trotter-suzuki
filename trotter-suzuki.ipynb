{
 "cells": [
  {
   "cell_type": "markdown",
   "source": [
    "# Trotter-Suzuki\r\n",
    "La idea de Trotter-Suzuki es tener un hamiltoniano como la suma de hamiltonianos más sencillos de simular, y entonces aproximar la evolución total como una secuencia de esas evoluciones más simples.\r\n",
    "\r\n",
    "Siendo el hamiltoniano $H=\\sum_{j=1}^mH_j$, entonces:\r\n",
    "\r\n",
    "$$\\exp(-i\\sum_{j=1}^mH_jt)=\\prod_{j=1}^m\\exp(-iH_jt)+O(m^2t^2)$$\r\n",
    "\r\n",
    "El error ocurre debido a que $\\exp(-iHt)$ es un operador exponencial y como resultado de usar esta fórmula existe un error debido al hecho de que los términos $H_j$, en general, no conmutan ($H_jH_k \\neq H_kH_j$).\r\n",
    "\r\n",
    "Si $t\\ll1$, entonces el error en esta aproximación se vuelve insignificante. \r\n",
    "\r\n",
    "Si $t$ es un número grande, entonces Trotter-Suzuki puede ser usado para simular la dinámica con precisión separándola en pequeños fragmentos de tiempo. Siendo $r$ el número de pasos tomados en la evolución a lo largo del tiempo, para que cada paso corra por un tiempo $t/r$, tenemos:\r\n",
    "\r\n",
    "$$\\exp\\left(-i\\sum_{j=1}^mH_jt\\right)=\\left(\\prod_{j=1}^m\\exp\\left(-iH_jt/r\\right)\\right)^r+O\\left(m^2t^2/r\\right)$$\r\n",
    "\r\n",
    "lo que implica que si $r$ escala como $m^2t^2/\\epsilon$, entonces el error puede ser hecho como máximo $\\epsilon$ para cualquier $\\epsilon \\gt 0$.\r\n",
    "\r\n",
    "Representaciones más certeras pueden ser construídas usando una secuencia de operadores exponenciales tal que los términos de error se cancelen. La fórmula más simple, Trotter-Suzuki de segundo orden, toma la forma:\r\n",
    "\r\n",
    "$$U_2(t)=\\left(\\prod_{j=1}^m\\exp\\left(-iH_jt/2r\\right)\\prod_{j=m}^1\\exp\\left(-iH_jt/2r\\right)\\right)^r = \\exp(-iHt)+O(m^3t^3/r^2)$$\r\n",
    "\r\n",
    "cuyo error puede ser hecho menor que $\\epsilon$ para cualquier $\\epsilon \\gt 0$ eligiendo un $r$ que escale como $m^{3/2}t^{3/2}/\\sqrt\\epsilon$.\r\n",
    "\r\n",
    "Para fórmulas de mayor orden, específicamente orden $2k$-vo donde $k\\gt 0$, se puede construír recursivamente:\r\n",
    "\r\n",
    "$$U_{2k}(t)=[U_{2k-2}(s_kt)]^2U_{2k-2}([1-4s_k]t)[U_{2k-2}(s_kt)]^2=\\exp(-iHt)+O((mt)^{2k+1}/r^{2k})$$\r\n",
    "donde $s_k=\\left(4-4^{1/\\left(2k-1\\right)}\\right)^{-1}$.\r\n",
    "\r\n",
    "La más simple es la fórmula de cuarto orden ($k=2$), originalmente introducida por Suzuki:\r\n",
    "\r\n",
    "$$U_4(t)=[U_2(s_2t)]^2U_2([1-4s_2]t)[U_2(s_2t)]^2=\\exp(-iHt)+O(m^5t^5/r^4)$$\r\n",
    "\r\n",
    "donde $s_2=(4-4^{1/3})^{-1}$. En general, se pueden construir fórmulas de órdenes altos arbitrarios, sin embargo, los costos de usar integradores más complejos generalmente superan los beneficios más allá de la cuarta orden para la mayoría de los problemas prácticos.\r\n",
    "\r\n",
    "Para que estas estrategias funcionen, debemos tener un método para simular una amplia cantidad de $\\exp(-iH_jt)$. La familia más simple y posiblemente más útil de hamiltonianos que podríamos usar son los operadores de Pauli, que pueden ser fácilmente simulados gracias a que pueden ser diagonalizados usando operaciones de Clifford. Además, una vez que estén diagonalizadas, sus valores propios pueden ser encontrados calculando la paridad de los qubits en los que actúan.\r\n",
    "\r\n",
    "Por ejemplo,\r\n",
    "\r\n",
    "$$e^{-iX\\otimes Xt}=(H \\otimes H)\\exp(-iZ \\otimes Zt (H \\otimes H))$$\r\n",
    "\r\n",
    "donde\r\n",
    "\r\n",
    "$$\r\n",
    "e^{-iZ \\otimes Zt} = \r\n",
    "\\begin{bmatrix}\r\n",
    "e^{it} & 0 & 0 & 0 \\\\\r\n",
    "0 & e^{it} & 0 & 0 \\\\\r\n",
    "0 & 0 & e^{it} & 0 \\\\\r\n",
    "0 & 0 & 0 & e^{-it}\r\n",
    "\\end{bmatrix}\r\n",
    "$$\r\n",
    "\r\n",
    "Aquí, $e^{-iHt}\\ket{00}=e^{it}\\ket{00}$ y $e^{-iHt}\\ket{01}=e^{-it}\\ket{01}$, lo que puede ser visto como una consecuencia directa de que la paridad de $00$ es $0$ mientras que la paridad de $01$ es $1$."
   ],
   "metadata": {}
  },
  {
   "cell_type": "code",
   "execution_count": null,
   "source": [],
   "outputs": [],
   "metadata": {}
  },
  {
   "cell_type": "markdown",
   "source": [
    "### Referencias\r\n",
    "Traducción parcial de https://docs.microsoft.com/en-us/azure/quantum/user-guide/libraries/chemistry/concepts/algorithms"
   ],
   "metadata": {}
  },
  {
   "cell_type": "markdown",
   "source": [],
   "metadata": {}
  }
 ],
 "metadata": {
  "orig_nbformat": 4,
  "language_info": {
   "name": "python",
   "version": "3.9.1",
   "mimetype": "text/x-python",
   "codemirror_mode": {
    "name": "ipython",
    "version": 3
   },
   "pygments_lexer": "ipython3",
   "nbconvert_exporter": "python",
   "file_extension": ".py"
  },
  "kernelspec": {
   "name": "python3",
   "display_name": "Python 3.9.1 64-bit"
  },
  "interpreter": {
   "hash": "1d76bb280da093bf7260b592363b449b8d54408228f36ce25dff58a9f746dd21"
  }
 },
 "nbformat": 4,
 "nbformat_minor": 2
}